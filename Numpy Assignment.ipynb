{
 "cells": [
  {
   "cell_type": "markdown",
   "metadata": {},
   "source": [
    "## Question 1\n",
    "Write a function so that the columns of the output matrix are powers of the input\n",
    "vector."
   ]
  },
  {
   "cell_type": "code",
   "execution_count": 1,
   "metadata": {},
   "outputs": [],
   "source": [
    "import numpy as np"
   ]
  },
  {
   "cell_type": "code",
   "execution_count": 2,
   "metadata": {},
   "outputs": [],
   "source": [
    "## Defining a function taking an array and a boolean as arguments\n",
    "\n",
    "def geo_progression(arr,N=None, increasing=False):\n",
    "    \n",
    "    if N == None:\n",
    "        N = len(arr)\n",
    "        \n",
    "    k=0\n",
    "    new = []\n",
    "    ## For each element in the array\n",
    "    for i in a: \n",
    "        ## Raise to the power from 0 to N\n",
    "        while k < N:\n",
    "            new.append(i ** k)\n",
    "            k += 1\n",
    "        k=0   \n",
    "    vander_arr = np.array(new).reshape(len(arr),N)    \n",
    "    \n",
    "    if increasing == False:\n",
    "        vander_arr = np.flip(vander_arr,axis=1)\n",
    "        \n",
    "    return vander_arr\n",
    "        "
   ]
  },
  {
   "cell_type": "code",
   "execution_count": 3,
   "metadata": {},
   "outputs": [
    {
     "data": {
      "text/plain": [
       "array([[   1,    2,    4,    8,   16],\n",
       "       [   1,    3,    9,   27,   81],\n",
       "       [   1,    5,   25,  125,  625],\n",
       "       [   1,    6,   36,  216, 1296]])"
      ]
     },
     "execution_count": 3,
     "metadata": {},
     "output_type": "execute_result"
    }
   ],
   "source": [
    "a = np.array([2,3,5,6])\n",
    "vander_array = geo_progression(a,5,True)\n",
    "vander_array"
   ]
  },
  {
   "cell_type": "markdown",
   "metadata": {},
   "source": [
    "## Question 2\n",
    "Write a function to find moving average in an array over a window"
   ]
  },
  {
   "cell_type": "code",
   "execution_count": 22,
   "metadata": {},
   "outputs": [],
   "source": [
    "seq = np.array([1,2,3,4,5,6,7,8,9,10])\n",
    "\n",
    "def moving_average(seq,k):\n",
    "    sequences = len(seq) - k + 1\n",
    "    print(\"There are {} elements in the array and the window size is {}.\".format(len(seq),k))\n",
    "    print(\"There are {} moving averages.\\n\".format(sequences))\n",
    "    print(\"The moving average values are as follows: \")\n",
    "    for i in range(0, sequences):\n",
    "        print(\"Moving Average {}: {:.2f}\".format(i+1,(seq[i:i+k].sum())/k))\n",
    "    return"
   ]
  },
  {
   "cell_type": "code",
   "execution_count": 23,
   "metadata": {},
   "outputs": [
    {
     "name": "stdout",
     "output_type": "stream",
     "text": [
      "There are 13 elements in the array and the window size is 3.\n",
      "There are 11 moving averages.\n",
      "\n",
      "The moving average values are as follows: \n",
      "Moving Average 1: 5.00\n",
      "Moving Average 2: 4.67\n",
      "Moving Average 3: 5.67\n",
      "Moving Average 4: 6.67\n",
      "Moving Average 5: 9.67\n",
      "Moving Average 6: 28.67\n",
      "Moving Average 7: 49.33\n",
      "Moving Average 8: 72.67\n",
      "Moving Average 9: 84.00\n",
      "Moving Average 10: 93.33\n",
      "Moving Average 11: 116.33\n"
     ]
    }
   ],
   "source": [
    "seq = np.array([3, 5, 7, 2, 8, 10, 11, 65, 72, 81, 99, 100, 150])\n",
    "moving_average(seq,3)"
   ]
  },
  {
   "cell_type": "code",
   "execution_count": null,
   "metadata": {},
   "outputs": [],
   "source": []
  }
 ],
 "metadata": {
  "kernelspec": {
   "display_name": "Python 3",
   "language": "python",
   "name": "python3"
  },
  "language_info": {
   "codemirror_mode": {
    "name": "ipython",
    "version": 3
   },
   "file_extension": ".py",
   "mimetype": "text/x-python",
   "name": "python",
   "nbconvert_exporter": "python",
   "pygments_lexer": "ipython3",
   "version": "3.7.4"
  }
 },
 "nbformat": 4,
 "nbformat_minor": 2
}
