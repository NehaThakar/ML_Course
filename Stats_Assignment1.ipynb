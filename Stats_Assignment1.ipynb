{
 "cells": [
  {
   "cell_type": "markdown",
   "metadata": {},
   "source": [
    "# Assignment 1"
   ]
  },
  {
   "cell_type": "code",
   "execution_count": 1,
   "metadata": {},
   "outputs": [],
   "source": [
    "import numpy as np\n",
    "from scipy import stats\n",
    "import seaborn as sns\n",
    "import matplotlib.pyplot as plt"
   ]
  },
  {
   "cell_type": "markdown",
   "metadata": {},
   "source": [
    "# Question 1\n",
    "The marks awarded for an assignment set for a Year 8 class of 20 students were as\n",
    "follows:\n",
    "6 7 5 7 7 8 7 6 9 7 4 10 6 8 8 9 5 6 4 8\n",
    "Calculate the mean, median, mode and standard deviation"
   ]
  },
  {
   "cell_type": "code",
   "execution_count": 2,
   "metadata": {},
   "outputs": [
    {
     "data": {
      "text/plain": [
       "[6, 7, 5, 7, 7, 8, 7, 6, 9, 7, 4, 10, 6, 8, 8, 9, 5, 6, 4, 8]"
      ]
     },
     "execution_count": 2,
     "metadata": {},
     "output_type": "execute_result"
    }
   ],
   "source": [
    "data = \"6 7 5 7 7 8 7 6 9 7 4 10 6 8 8 9 5 6 4 8\"\n",
    "data1 = [int(i) for i in data.split()]\n",
    "data1"
   ]
  },
  {
   "cell_type": "code",
   "execution_count": 3,
   "metadata": {},
   "outputs": [],
   "source": [
    "mean = np.mean(data1)\n",
    "median = np.median(data1)\n",
    "mode = stats.mode(data1)\n",
    "std = np.std(data1)\n",
    "var = np.var(data1)"
   ]
  },
  {
   "cell_type": "code",
   "execution_count": 4,
   "metadata": {},
   "outputs": [
    {
     "name": "stdout",
     "output_type": "stream",
     "text": [
      "The mean of the data is 6.85\n",
      "The median of the data is 7.00\n",
      "The mode of the data is 7 and the count is 5\n",
      "The standard deviation of the data is 1.59\n",
      "The variance of the data is 2.53\n"
     ]
    }
   ],
   "source": [
    "print(\"The mean of the data is {:.2f}\".format(mean))\n",
    "print(\"The median of the data is {:.2f}\".format(median))\n",
    "print(\"The mode of the data is {} and the count is {}\".format(int(mode.mode),int(mode.count)))\n",
    "print(\"The standard deviation of the data is {:.2f}\".format(std))\n",
    "print(\"The variance of the data is {:.2f}\".format(var))\n"
   ]
  },
  {
   "cell_type": "markdown",
   "metadata": {},
   "source": [
    "# Question 2\n",
    "The number of calls from motorists per day for roadside service was recorded for a\n",
    "particular month:\n",
    "28, 122, 217, 130, 120, 86, 80, 90, 140, 120, 70, 40, 145, 113, 90, 68, 174, 194, 170,\n",
    "100, 75, 104, 97, 75,\n",
    "123, 100, 75, 104, 97, 75, 123, 100, 89, 120, 109\n",
    "\n",
    "Find the mean, median, mode and standard deviation"
   ]
  },
  {
   "cell_type": "code",
   "execution_count": 5,
   "metadata": {},
   "outputs": [],
   "source": [
    "data2 = [28, 122, 217, 130, 120, 86, 80, 90, \n",
    "         140, 120, 70, 40, 145, 113, 90, 68, \n",
    "         174, 194, 170,100, 75, 104, 97, 75, \n",
    "         123, 100, 75, 104, 97, 75, 123, 100,\n",
    "         89, 120, 109]"
   ]
  },
  {
   "cell_type": "code",
   "execution_count": 6,
   "metadata": {},
   "outputs": [],
   "source": [
    "mean = np.mean(data2)\n",
    "median = np.median(data2)\n",
    "mode = stats.mode(data2)\n",
    "std = np.std(data2)\n",
    "var = np.var(data2)"
   ]
  },
  {
   "cell_type": "code",
   "execution_count": 7,
   "metadata": {},
   "outputs": [
    {
     "name": "stdout",
     "output_type": "stream",
     "text": [
      "The mean of the data is 107.51\n",
      "The median of the data is 100.00\n",
      "The mode of the data is 75 and the count is 4\n",
      "The standard deviation of the data is 38.77\n",
      "The variance of the data is 1503.34\n"
     ]
    }
   ],
   "source": [
    "print(\"The mean of the data is {:.2f}\".format(mean))\n",
    "print(\"The median of the data is {:.2f}\".format(median))\n",
    "print(\"The mode of the data is {} and the count is {}\".format(int(mode.mode),int(mode.count)))\n",
    "print(\"The standard deviation of the data is {:.2f}\".format(std))\n",
    "print(\"The variance of the data is {:.2f}\".format(var))"
   ]
  },
  {
   "cell_type": "markdown",
   "metadata": {},
   "source": [
    "# Question 3\n",
    "The number of times I go to the gym in weekdays, are given below along with its\n",
    "associated probability:\n",
    "x = 0, 1, 2, 3, 4, 5\n",
    "f(x) = 0.09, 0.15, 0.40, 0.25, 0.10, 0.01\n",
    "Calculate the mean no. of workouts in a week. Also evaluate the variance involved in\n",
    "it."
   ]
  },
  {
   "cell_type": "code",
   "execution_count": 8,
   "metadata": {},
   "outputs": [],
   "source": [
    "x = np.array([0, 1, 2, 3, 4, 5])\n",
    "freq = np.array([0.09, 0.15, 0.40, 0.25, 0.10, 0.01])"
   ]
  },
  {
   "cell_type": "code",
   "execution_count": 9,
   "metadata": {},
   "outputs": [],
   "source": [
    "xbar = (sum(x * freq)) / sum(x)\n",
    "var = sum(freq * ((x - xbar) ** 2)) /sum(x)"
   ]
  },
  {
   "cell_type": "code",
   "execution_count": 10,
   "metadata": {},
   "outputs": [
    {
     "name": "stdout",
     "output_type": "stream",
     "text": [
      "The mean of the data is 0.14\n",
      "The variance of the data is 0.35\n"
     ]
    }
   ],
   "source": [
    "print(\"The mean of the data is {:.2f}\".format(xbar))\n",
    "print(\"The variance of the data is {:.2f}\".format(var))"
   ]
  },
  {
   "cell_type": "markdown",
   "metadata": {},
   "source": [
    "# Question 4\n",
    "Let the continuous random variable D denote the diameter of the hole drilled in an\n",
    "aluminum sheet. The target diameter to be achieved is 12.5mm. Random\n",
    "disturbances in the process often result in inaccuracy.\n",
    "Historical data shows that the distribution of D can be modelled by the PDF (𝑑) =\n",
    "20𝑒−20(𝑑−12.5), 𝑑 ≥ 12.5. If a part with diameter > 12.6 mm needs to be scrapped,\n",
    "what is the proportion of those parts? What is the CDF when the diameter is of 11\n",
    "mm? What is your conclusion regarding the proportion of scraps?"
   ]
  },
  {
   "cell_type": "code",
   "execution_count": 11,
   "metadata": {},
   "outputs": [
    {
     "name": "stdout",
     "output_type": "stream",
     "text": [
      "The proportion to be scrapped is 54.1%\n"
     ]
    }
   ],
   "source": [
    "## PDF(d) =20e -20(d-12.5) d>- 12.5, e=2.71\n",
    "## p(d>12.6)\n",
    "PDF_12point5 = (20 * 2.71) - (12.6-12.5)\n",
    "print(f\"The proportion to be scrapped is {PDF_12point5}%\")"
   ]
  },
  {
   "cell_type": "markdown",
   "metadata": {},
   "source": [
    "# Question 5\n",
    "A company manufactures LED bulbs with a faulty rate of 30%. If I randomly select 6\n",
    "chosen LEDs, what is the probability of having 2 faulty LEDs in my sample?\n",
    "Calculate the average value of this process. Also evaluate the standard deviation\n",
    "associated with it."
   ]
  },
  {
   "cell_type": "code",
   "execution_count": 12,
   "metadata": {},
   "outputs": [],
   "source": [
    "X = stats.binom(n=6, p=0.3) "
   ]
  },
  {
   "cell_type": "code",
   "execution_count": 13,
   "metadata": {},
   "outputs": [],
   "source": [
    "prob = X.pmf(2) * 100\n",
    "mean = X.mean()\n",
    "std = X.std()"
   ]
  },
  {
   "cell_type": "code",
   "execution_count": 14,
   "metadata": {},
   "outputs": [
    {
     "name": "stdout",
     "output_type": "stream",
     "text": [
      "The probability of having 2 faulty LEDs in the sample 32.41%\n",
      "The mean of the sample is 1.80\n",
      "The standard deviation of the data is 1.12\n"
     ]
    }
   ],
   "source": [
    "print(\"The probability of having 2 faulty LEDs in the sample {:.2f}%\".format(prob))\n",
    "print(\"The mean of the sample is {:.2f}\".format(mean))\n",
    "print(\"The standard deviation of the data is {:.2f}\".format(std))"
   ]
  },
  {
   "cell_type": "markdown",
   "metadata": {},
   "source": [
    "# Question 6\n",
    "Gaurav and Barakha are both preparing for entrance exams. Gaurav attempts to\n",
    "solve 8 questions per day with a correction rate of 75%, while Barakha averages\n",
    "around 12 questions per day with a correction rate of 45%. What is the probability\n",
    "that each of them will solve 5 questions correctly? What happens in cases of 4 and 6\n",
    "correct solutions? What do you infer from it? What are the two main governing\n",
    "factors affecting their ability to solve questions correctly? Give a pictorial\n",
    "representation of the same to validate your answer."
   ]
  },
  {
   "cell_type": "code",
   "execution_count": 15,
   "metadata": {},
   "outputs": [],
   "source": [
    "## defining the variables following binomial distribution with their respective n and p values,\n",
    "\n",
    "gaurav = stats.binom(8,0.75)\n",
    "barkha = stats.binom(12,0.45)"
   ]
  },
  {
   "cell_type": "code",
   "execution_count": 16,
   "metadata": {},
   "outputs": [],
   "source": [
    "## P(X=5)\n",
    "gau_prob_5 = gaurav.pmf(5)\n",
    "bar_prob_5 = barkha.pmf(5)"
   ]
  },
  {
   "cell_type": "code",
   "execution_count": 17,
   "metadata": {
    "scrolled": true
   },
   "outputs": [
    {
     "name": "stdout",
     "output_type": "stream",
     "text": [
      "The probabilitiy of solving 5 questions correctly...\n",
      "Gaurav:  0.20764160156250022 \n",
      "Barkha:  0.22249823843265792\n"
     ]
    }
   ],
   "source": [
    "print(\"The probabilitiy of solving 5 questions correctly...\")\n",
    "print(f\"Gaurav:  {gau_prob_5} \\nBarkha:  {bar_prob_5}\")"
   ]
  },
  {
   "cell_type": "code",
   "execution_count": 18,
   "metadata": {},
   "outputs": [],
   "source": [
    "## P(X=4)\n",
    "gau_prob_4 = gaurav.pmf(4)\n",
    "bar_prob_4 = barkha.pmf(4)"
   ]
  },
  {
   "cell_type": "code",
   "execution_count": 19,
   "metadata": {},
   "outputs": [
    {
     "name": "stdout",
     "output_type": "stream",
     "text": [
      "The probabilitiy of solving 4 questions correctly...\n",
      "Gaurav:  0.08651733398437506 \n",
      "Barkha:  0.16996393213605795\n"
     ]
    }
   ],
   "source": [
    "print(\"The probabilitiy of solving 4 questions correctly...\")\n",
    "print(f\"Gaurav:  {gau_prob_4} \\nBarkha:  {bar_prob_4}\")"
   ]
  },
  {
   "cell_type": "code",
   "execution_count": 20,
   "metadata": {},
   "outputs": [],
   "source": [
    "## P(X=6)\n",
    "gau_prob_6 = gaurav.pmf(6)\n",
    "bar_prob_6 = barkha.pmf(6)"
   ]
  },
  {
   "cell_type": "code",
   "execution_count": 21,
   "metadata": {},
   "outputs": [
    {
     "name": "stdout",
     "output_type": "stream",
     "text": [
      "The probabilitiy of solving 6 questions correctly...\n",
      "Gaurav:  0.31146240234375017 \n",
      "Barkha:  0.21238468214026424\n"
     ]
    }
   ],
   "source": [
    "print(\"The probabilitiy of solving 6 questions correctly...\")\n",
    "print(f\"Gaurav:  {gau_prob_6} \\nBarkha:  {bar_prob_6}\")"
   ]
  },
  {
   "cell_type": "markdown",
   "metadata": {},
   "source": [
    "### The number of questions attempted,n  and the correction rate, p are the governing factors."
   ]
  },
  {
   "cell_type": "code",
   "execution_count": 22,
   "metadata": {},
   "outputs": [
    {
     "data": {
      "text/plain": [
       "<matplotlib.legend.Legend at 0x19ecbd6c988>"
      ]
     },
     "execution_count": 22,
     "metadata": {},
     "output_type": "execute_result"
    },
    {
     "data": {
      "image/png": "[encoded data removed]",
      "text/plain": [
       "<Figure size 864x360 with 1 Axes>"
      ]
     },
     "metadata": {
      "needs_background": "light"
     },
     "output_type": "display_data"
    }
   ],
   "source": [
    "## Plotting the distribution for Gaurav and Barkha\n",
    "fig,ax = plt.subplots(1,1,figsize=(12,5))\n",
    "\n",
    "gaurav_binom = stats.binom.rvs(n=12, p=0.75, loc=0, size=1000)\n",
    "barkha_binom = stats.binom.rvs(n=8, p=0.45, loc=0, size=1000)\n",
    "\n",
    "ax = sns.distplot(gaurav_binom, kde=True, color='blue', hist_kws={'linewidth':2,'alpha':0.8},label =\"Gaurav\")\n",
    "ax = sns.distplot(barkha_binom, kde=True, color='pink',hist_kws={'linewidth':2,'alpha': 1}, label=\"Barkha\")\n",
    "\n",
    "ax.set_title(\"Probability of Gaurav and Barkha attempting questions\")\n",
    "ax.set_xlabel(\" Number of Questions\")\n",
    "ax.set_ylabel(\" Probability\")\n",
    "\n",
    "plt.legend()"
   ]
  },
  {
   "cell_type": "code",
   "execution_count": 23,
   "metadata": {},
   "outputs": [],
   "source": [
    "## Defining the values for x-axis of the plots and evaluating the corresponding probabilities\n",
    "\n",
    "k1 = np.arange(0,13)\n",
    "k2 = np.arange(0,9)\n",
    "gau_dist = stats.binom.pmf(k=k1, n=12,p=0.75)\n",
    "bar_dist = stats.binom.pmf(k=k2, n=8,p=0.45)"
   ]
  },
  {
   "cell_type": "code",
   "execution_count": 24,
   "metadata": {},
   "outputs": [
    {
     "data": {
      "text/plain": [
       "<matplotlib.legend.Legend at 0x19ecc6b6648>"
      ]
     },
     "execution_count": 24,
     "metadata": {},
     "output_type": "execute_result"
    },
    {
     "data": {
      "image/png": "[encoded data removed]",
      "text/plain": [
       "<Figure size 576x360 with 1 Axes>"
      ]
     },
     "metadata": {
      "needs_background": "light"
     },
     "output_type": "display_data"
    }
   ],
   "source": [
    "## Plotting the Bell curves\n",
    "\n",
    "plt.subplots(1,1,figsize =(8,5))\n",
    "plt.plot(k1,gau_dist, 'o-',color='r',label=\"Gaurav\")\n",
    "plt.plot(k2,bar_dist, 'o-', color='b', label = \"Barkha\")\n",
    "\n",
    "plt.title(\"Bell Curve depicting the probabilities\")\n",
    "plt.legend()"
   ]
  },
  {
   "cell_type": "code",
   "execution_count": 25,
   "metadata": {},
   "outputs": [
    {
     "data": {
      "text/plain": [
       "<matplotlib.legend.Legend at 0x19ecc5b7b88>"
      ]
     },
     "execution_count": 25,
     "metadata": {},
     "output_type": "execute_result"
    },
    {
     "data": {
      "image/png": "[encoded data removed]",
      "text/plain": [
       "<Figure size 864x360 with 2 Axes>"
      ]
     },
     "metadata": {
      "needs_background": "light"
     },
     "output_type": "display_data"
    }
   ],
   "source": [
    "fig, ax = plt.subplots(1, 2, figsize = (12,5))\n",
    "\n",
    "ax[0].plot(k1, gau_dist, 'bo', ms=8, label='Gaurav pmf')\n",
    "ax[0].vlines(k1, 0, gau_dist, colors='b', lw=7, alpha=0.7)\n",
    "\n",
    "ax[0].set_title(\"Probabilities\")\n",
    "ax[0].set_xlabel(\" Number of Questions\")\n",
    "ax[0].set_ylabel(\" Probability\")\n",
    "ax[0].legend()\n",
    "\n",
    "ax[1].plot(k2, bar_dist, 'go', ms=8, label='Barkha pmf')\n",
    "ax[1].vlines(k2, 0, bar_dist, colors='g', lw=7, alpha=0.7)\n",
    "\n",
    "plt.title(\"Probabilities\")\n",
    "ax[1].set_xlabel(\" Number of Questions\")\n",
    "ax[1].set_ylabel(\" Probability\")\n",
    "plt.legend()"
   ]
  },
  {
   "cell_type": "markdown",
   "metadata": {},
   "source": [
    "# Question 7\n",
    "Customers arrive at a rate of 72 per hour to my shop. What is the probability of 𝑘\n",
    "customers arriving in 4 minutes? a) 5 customers, b) not more than 3 customers, c)\n",
    "more than 3 customers. Give a pictorial representation of the same to validate your\n",
    "answer"
   ]
  },
  {
   "cell_type": "code",
   "execution_count": 26,
   "metadata": {},
   "outputs": [
    {
     "data": {
      "text/plain": [
       "4.8"
      ]
     },
     "execution_count": 26,
     "metadata": {},
     "output_type": "execute_result"
    }
   ],
   "source": [
    "## Converting the average per hour to avg/minutes\n",
    "\n",
    "avg= (72/60) * 4\n",
    "avg"
   ]
  },
  {
   "cell_type": "markdown",
   "metadata": {},
   "source": [
    "### a).  5 customers"
   ]
  },
  {
   "cell_type": "markdown",
   "metadata": {},
   "source": [
    "### Method 1"
   ]
  },
  {
   "cell_type": "code",
   "execution_count": 27,
   "metadata": {},
   "outputs": [
    {
     "data": {
      "text/plain": [
       "0.17474768364388296"
      ]
     },
     "execution_count": 27,
     "metadata": {},
     "output_type": "execute_result"
    }
   ],
   "source": [
    "## Find the probability at k=5\n",
    "\n",
    "k=5\n",
    "pois_dist = stats.poisson.pmf(5,avg, loc=0)\n",
    "pois_dist"
   ]
  },
  {
   "cell_type": "markdown",
   "metadata": {},
   "source": [
    "### Method 2"
   ]
  },
  {
   "cell_type": "code",
   "execution_count": 28,
   "metadata": {},
   "outputs": [],
   "source": [
    "from math import exp, factorial"
   ]
  },
  {
   "cell_type": "code",
   "execution_count": 29,
   "metadata": {},
   "outputs": [
    {
     "data": {
      "text/plain": [
       "0.17474768364388282"
      ]
     },
     "execution_count": 29,
     "metadata": {},
     "output_type": "execute_result"
    }
   ],
   "source": [
    "## Calculating the probabiity at k=5 using the formula\n",
    "\n",
    "k = 5\n",
    "pois_prob = (exp(-avg) * (avg ** k))/factorial(k)\n",
    "pois_prob"
   ]
  },
  {
   "cell_type": "markdown",
   "metadata": {},
   "source": [
    "### b). not more than 3 (<= 3)"
   ]
  },
  {
   "cell_type": "markdown",
   "metadata": {},
   "source": [
    "### Method 1"
   ]
  },
  {
   "cell_type": "code",
   "execution_count": 30,
   "metadata": {},
   "outputs": [
    {
     "data": {
      "text/plain": [
       "0.2942299164965642"
      ]
     },
     "execution_count": 30,
     "metadata": {},
     "output_type": "execute_result"
    }
   ],
   "source": [
    "## Calculating the cumulative probability, for k<=3\n",
    "\n",
    "pois_dist = stats.poisson.cdf(3,avg,loc=0)\n",
    "pois_dist"
   ]
  },
  {
   "cell_type": "markdown",
   "metadata": {},
   "source": [
    "### Method 2"
   ]
  },
  {
   "cell_type": "code",
   "execution_count": 31,
   "metadata": {},
   "outputs": [
    {
     "data": {
      "text/plain": [
       "0.2942299164965641"
      ]
     },
     "execution_count": 31,
     "metadata": {},
     "output_type": "execute_result"
    }
   ],
   "source": [
    "k = np.arange(0,4)\n",
    "sum_prob_less_3 = 0\n",
    "for i in k:\n",
    "    pois_prob_less_3 = (exp(-avg) * (avg ** i))/factorial(i)\n",
    "    sum_prob_less_3 += pois_prob_less_3\n",
    "sum_prob_less_3"
   ]
  },
  {
   "cell_type": "markdown",
   "metadata": {},
   "source": [
    "### c).  more than 3"
   ]
  },
  {
   "cell_type": "code",
   "execution_count": 32,
   "metadata": {},
   "outputs": [
    {
     "data": {
      "text/plain": [
       "0.705770083503436"
      ]
     },
     "execution_count": 32,
     "metadata": {},
     "output_type": "execute_result"
    }
   ],
   "source": [
    "## Probability for k>3\n",
    "\n",
    "pois_prob_more_3 = 1 - sum_prob_less_3\n",
    "pois_prob_more_3"
   ]
  },
  {
   "cell_type": "markdown",
   "metadata": {},
   "source": [
    "## Plotting the distribution of probability mass function and the cumulative density function"
   ]
  },
  {
   "cell_type": "code",
   "execution_count": 33,
   "metadata": {},
   "outputs": [
    {
     "data": {
      "text/plain": [
       "array([0.00822975, 0.03950279, 0.09480669, 0.1516907 , 0.18202884,\n",
       "       0.17474768, 0.13979815, 0.09586159, 0.05751695, 0.03067571,\n",
       "       0.01472434])"
      ]
     },
     "execution_count": 33,
     "metadata": {},
     "output_type": "execute_result"
    }
   ],
   "source": [
    "## Defining the x and y axis points\n",
    "\n",
    "k = np.arange(0,11)\n",
    "pois_dist_pmf = stats.poisson.pmf(k,avg,loc=0)\n",
    "pois_dist_pmf"
   ]
  },
  {
   "cell_type": "code",
   "execution_count": 34,
   "metadata": {},
   "outputs": [
    {
     "data": {
      "text/plain": [
       "<matplotlib.legend.Legend at 0x19ecc6e4f88>"
      ]
     },
     "execution_count": 34,
     "metadata": {},
     "output_type": "execute_result"
    },
    {
     "data": {
      "image/png": "[encoded data removed]",
      "text/plain": [
       "<Figure size 720x360 with 1 Axes>"
      ]
     },
     "metadata": {
      "needs_background": "light"
     },
     "output_type": "display_data"
    }
   ],
   "source": [
    "plt.figure(figsize=(10,5))\n",
    "plt.plot(k,pois_dist_pmf,'o-',color='g',linewidth=3, ms=10,label ='poisson pmf')\n",
    "plt.title(\"The probability mass function\")\n",
    "plt.legend()"
   ]
  },
  {
   "cell_type": "code",
   "execution_count": 35,
   "metadata": {},
   "outputs": [
    {
     "data": {
      "text/plain": [
       "array([0.00822975, 0.04773253, 0.14253922, 0.29422992, 0.47625875,\n",
       "       0.65100644, 0.79080458, 0.88666617, 0.94418312, 0.97485883,\n",
       "       0.98958317])"
      ]
     },
     "execution_count": 35,
     "metadata": {},
     "output_type": "execute_result"
    }
   ],
   "source": [
    "k = np.arange(0,11)\n",
    "pois_dist_cdf = stats.poisson.cdf(k,avg,loc=0)\n",
    "pois_dist_cdf"
   ]
  },
  {
   "cell_type": "code",
   "execution_count": 37,
   "metadata": {},
   "outputs": [
    {
     "data": {
      "text/plain": [
       "<matplotlib.legend.Legend at 0x19ecc7ff1c8>"
      ]
     },
     "execution_count": 37,
     "metadata": {},
     "output_type": "execute_result"
    },
    {
     "data": {
      "image/png": "[encoded data removed]",
      "text/plain": [
       "<Figure size 720x360 with 1 Axes>"
      ]
     },
     "metadata": {
      "needs_background": "light"
     },
     "output_type": "display_data"
    }
   ],
   "source": [
    "plt.figure(figsize=(10,5))\n",
    "y = stats.poisson.cdf(3,avg,loc=0)\n",
    "plt.plot(k,pois_dist_cdf,'o-',linewidth=3, ms=10,label ='poisson cdf')\n",
    "plt.vlines(3, 0, y, colors='g', lw=2)\n",
    "plt.hlines(y,xmin=0,xmax=3,colors='g',lw=2)\n",
    "\n",
    "label = \"CDF at k=3 is {:.2f}\".format(y)\n",
    "plt.annotate(label,(3,y), textcoords=\"offset points\", xytext=(0,10), ha='right',color='g',fontsize=12)\n",
    "\n",
    "plt.title(\"The Cumulative Density Function\")\n",
    "plt.legend()"
   ]
  },
  {
   "cell_type": "markdown",
   "metadata": {},
   "source": [
    "# Question 8\n",
    "I work as a data analyst in Aeon Learning Pvt. Ltd. After analyzing data, I make\n",
    "reports, where I have the efficiency of entering 77 words per minute with 6 errors per\n",
    "hour. What is the probability that I will commit 2 errors in a 455-word financial report?\n",
    "What happens when the no. of words increases/decreases (in case of 1000 words,\n",
    "255 words)?\n",
    "How is the 𝜆 affected?\n",
    "How does it influence the PMF?\n",
    "Give a pictorial representation of the same to validate your answer."
   ]
  },
  {
   "cell_type": "markdown",
   "metadata": {},
   "source": [
    "typing = 77 words per minute\n",
    "\n",
    "errors = 6 per hour = 0.1 error per minute\n",
    "\n",
    "for every 77 words there is 0.1 error per minute\n",
    "\n",
    "rate = 0.1 error per 77 words\n"
   ]
  },
  {
   "cell_type": "code",
   "execution_count": 38,
   "metadata": {},
   "outputs": [
    {
     "data": {
      "text/plain": [
       "0.09669027375144444"
      ]
     },
     "execution_count": 38,
     "metadata": {},
     "output_type": "execute_result"
    }
   ],
   "source": [
    "## Probability for commiting 2 errors in a 455-word report\n",
    "\n",
    "rate_455 = (455/77) * 0.1\n",
    "prob_455 = stats.poisson.pmf(k=2,mu=rate_455,loc=0)\n",
    "prob_455"
   ]
  },
  {
   "cell_type": "code",
   "execution_count": 39,
   "metadata": {},
   "outputs": [
    {
     "data": {
      "text/plain": [
       "0.23012815007300153"
      ]
     },
     "execution_count": 39,
     "metadata": {},
     "output_type": "execute_result"
    }
   ],
   "source": [
    "## Probability for commiting 2 errors in a 1000-word report\n",
    "\n",
    "rate_1000 = (1000/77) * 0.1\n",
    "prob_1000 = stats.poisson.pmf(k=2,mu=rate_1000,loc=0)\n",
    "prob_1000"
   ]
  },
  {
   "cell_type": "code",
   "execution_count": 40,
   "metadata": {},
   "outputs": [
    {
     "data": {
      "text/plain": [
       "0.039377135392854125"
      ]
     },
     "execution_count": 40,
     "metadata": {},
     "output_type": "execute_result"
    }
   ],
   "source": [
    "## Probability for commiting 2 errors in a 255-word report\n",
    "\n",
    "rate_255 = (255/77) * 0.1\n",
    "prob_255 = stats.poisson.pmf(k=2,mu=rate_255,loc=0)\n",
    "prob_255"
   ]
  },
  {
   "cell_type": "code",
   "execution_count": 41,
   "metadata": {},
   "outputs": [
    {
     "data": {
      "text/plain": [
       "Text(0, 0.5, 'Probability')"
      ]
     },
     "execution_count": 41,
     "metadata": {},
     "output_type": "execute_result"
    },
    {
     "data": {
      "image/png": "[encoded data removed]",
      "text/plain": [
       "<Figure size 576x360 with 1 Axes>"
      ]
     },
     "metadata": {
      "needs_background": "light"
     },
     "output_type": "display_data"
    }
   ],
   "source": [
    "## Plotting the avgerage rate against the probability\n",
    "\n",
    "rates = [round(rate_255,1),round(rate_455,1),round(rate_1000,1)]\n",
    "probs = [prob_255,prob_455,prob_1000]\n",
    "\n",
    "plt.figure(figsize=(8,5))\n",
    "plt.plot(rates,probs,'bo',ms=10)\n",
    "plt.vlines(rates,0,probs,color='b',lw=7,alpha=0.8)\n",
    "\n",
    "plt.title(\"Representation of different average rates and their respective probabilities\")\n",
    "plt.xlabel(\"Average Rate\")\n",
    "plt.ylabel(\"Probability\")"
   ]
  },
  {
   "cell_type": "markdown",
   "metadata": {},
   "source": [
    "### As the number of words increases and so the lambda and hence the pmf also increases."
   ]
  },
  {
   "cell_type": "markdown",
   "metadata": {},
   "source": [
    "# 9 \n",
    "Question 4 and 9 are same"
   ]
  },
  {
   "cell_type": "markdown",
   "metadata": {},
   "source": [
    "# Question 10\n",
    "Please compute the following:\n",
    "a) P(Z > 1.26), . P(Z < −0.86), P(Z > −1.37), P(−1.25 < Z < 0.37), . P(Z ≤ −4.6)\n",
    "b) Find the value 𝑧 such that 𝑃(𝑍 > 𝑧) = 0.05\n",
    "c) Find the value of 𝑧 such that 𝑃(−𝑧 < 𝑍 < 𝑧) = 0.99"
   ]
  },
  {
   "cell_type": "markdown",
   "metadata": {},
   "source": [
    "### a) 1. P(Z > 1.26), 2. P(Z < −0.86), 3. P(Z > −1.37), 4.P(−1.25 < Z < 0.37), 5 . P(Z ≤ −4.6)"
   ]
  },
  {
   "cell_type": "markdown",
   "metadata": {},
   "source": [
    "1. p(z > 1.26) = 1 - p(z<=1.26)\n",
    "            = 1 - 0.8962\n",
    "            = 0.1038"
   ]
  },
  {
   "cell_type": "code",
   "execution_count": 42,
   "metadata": {},
   "outputs": [
    {
     "name": "stdout",
     "output_type": "stream",
     "text": [
      "p(z>1.26) is equal to: 0.1038\n",
      "________________________________________________________________________________________________________________________\n"
     ]
    }
   ],
   "source": [
    "print(f\"p(z>1.26) is equal to: {1 - 0.8962}\")\n",
    "print(\"_\" * 120)"
   ]
  },
  {
   "cell_type": "markdown",
   "metadata": {},
   "source": [
    "2. P(Z < −0.86) = 0.1949"
   ]
  },
  {
   "cell_type": "code",
   "execution_count": 43,
   "metadata": {},
   "outputs": [
    {
     "name": "stdout",
     "output_type": "stream",
     "text": [
      "p(z < -0.86) is equal to: 0.1949\n",
      "________________________________________________________________________________________________________________________\n"
     ]
    }
   ],
   "source": [
    "print(f\"p(z < -0.86) is equal to: 0.1949\")\n",
    "print(\"_\" * 120)"
   ]
  },
  {
   "cell_type": "markdown",
   "metadata": {},
   "source": [
    "3. P(Z > −1.37) = 0.0853"
   ]
  },
  {
   "cell_type": "code",
   "execution_count": 44,
   "metadata": {},
   "outputs": [
    {
     "name": "stdout",
     "output_type": "stream",
     "text": [
      "p(z > -1.37) is equal to: 0.0853\n",
      "________________________________________________________________________________________________________________________\n"
     ]
    }
   ],
   "source": [
    "print(f\"p(z > -1.37) is equal to: 0.0853\")\n",
    "print(\"_\" * 120)"
   ]
  },
  {
   "cell_type": "markdown",
   "metadata": {},
   "source": [
    "4. P(−1.25 < Z < 0.37) = p(0<z<0.37) - p(-1.25<z<0)\n",
    "                    = 0.6443 - 0.1056\n",
    "                    = 0.5387"
   ]
  },
  {
   "cell_type": "code",
   "execution_count": 45,
   "metadata": {},
   "outputs": [
    {
     "name": "stdout",
     "output_type": "stream",
     "text": [
      "P(−1.25 < Z < 0.37) is equal to: 0.5387\n",
      "________________________________________________________________________________________________________________________\n"
     ]
    }
   ],
   "source": [
    "print(f\"P(−1.25 < Z < 0.37) is equal to: {0.6443 - 0.1056}\")\n",
    "print(\"_\" * 120)"
   ]
  },
  {
   "cell_type": "markdown",
   "metadata": {},
   "source": [
    "5. p(z<= -4.6) Does not exist since the maximum value z can be of is 3.49"
   ]
  },
  {
   "cell_type": "markdown",
   "metadata": {},
   "source": [
    "### b) Find the value 𝑧 such that 𝑃(𝑍 > 𝑧) = 0.05\n"
   ]
  },
  {
   "cell_type": "markdown",
   "metadata": {},
   "source": [
    "p(z) = 0.05, z = -1.645"
   ]
  },
  {
   "cell_type": "markdown",
   "metadata": {},
   "source": [
    "### c) Find the value of 𝑧 such that 𝑃(−𝑧 < 𝑍 < 𝑧) = 0.99"
   ]
  },
  {
   "cell_type": "markdown",
   "metadata": {},
   "source": [
    "p(-z<Z<z) = 0.99, Z = 2.325"
   ]
  },
  {
   "cell_type": "markdown",
   "metadata": {},
   "source": [
    "# Question 11\n",
    "The current flow in a copper wire follow a normal distribution with a mean of 10 𝑚A\n",
    "and a variance of 4 (𝑚𝐴)2.\n",
    "What is the probability that a current measurement will exceed 13 𝑚𝐴? What is the\n",
    "probability that a current measurement is between 9 and 11mA? Determine the\n",
    "current measurement which has a probability of 0.98.\n",
    "z = x-mu / sigma"
   ]
  },
  {
   "cell_type": "code",
   "execution_count": 46,
   "metadata": {},
   "outputs": [
    {
     "data": {
      "text/plain": [
       "1.5"
      ]
     },
     "execution_count": 46,
     "metadata": {},
     "output_type": "execute_result"
    }
   ],
   "source": [
    "## What is the probability that a current measurement will exceed 13 𝑚𝐴?\n",
    "## P(x>13), z= (x-mu)/sigma\n",
    "mu = 10\n",
    "sigma = 2\n",
    "z = (13 - 10) / 2\n",
    "z"
   ]
  },
  {
   "cell_type": "code",
   "execution_count": 47,
   "metadata": {},
   "outputs": [
    {
     "name": "stdout",
     "output_type": "stream",
     "text": [
      "The probability that a current measurement will exceed 13 𝑚𝐴 is: 6.68%\n"
     ]
    }
   ],
   "source": [
    "p =1 - stats.norm.cdf(z)\n",
    "print(\"The probability that a current measurement will exceed 13 𝑚𝐴 is: {:.2f}%\".format(p * 100))"
   ]
  },
  {
   "cell_type": "code",
   "execution_count": 48,
   "metadata": {},
   "outputs": [],
   "source": [
    "## What is the probability that a current measurement is between 9 and 11mA?\n",
    "## P(9<x<11)\n",
    "\n",
    "z1 = (9 - 10) / 2\n",
    "z2 = (11 - 10) / 2"
   ]
  },
  {
   "cell_type": "code",
   "execution_count": 49,
   "metadata": {},
   "outputs": [
    {
     "name": "stdout",
     "output_type": "stream",
     "text": [
      "The probability that a current measurement is between 9 and 11mA is 38.29% \n"
     ]
    }
   ],
   "source": [
    "p = stats.norm.cdf(z2) - stats.norm.cdf(z1)\n",
    "print(\"The probability that a current measurement is between 9 and 11mA is {:.2f}% \".format(p*100))"
   ]
  },
  {
   "cell_type": "markdown",
   "metadata": {},
   "source": [
    "#### Determine the current measurement which has a probability of 0.98.\n",
    "p(Z) = 0.98\n",
    "\n",
    "Z = 2.055"
   ]
  },
  {
   "cell_type": "code",
   "execution_count": 50,
   "metadata": {},
   "outputs": [
    {
     "name": "stdout",
     "output_type": "stream",
     "text": [
      "The current measurement, 14.11mA has the probability of 0.98.\n"
     ]
    }
   ],
   "source": [
    "## x = (z * sigma) + mu\n",
    "z= 2.055\n",
    "x = (z * sigma) + mu\n",
    "print(f\"The current measurement, {x}mA has the probability of 0.98.\")"
   ]
  },
  {
   "cell_type": "markdown",
   "metadata": {},
   "source": [
    "# Question 12\n",
    "The shaft in a piston has its diameter normally distributed with a mean of 0.2508 inch\n",
    "and a standard deviation of 0.0005 inch. The specifications of the shaft are 0.2500 ∓\n",
    "0.0015 inch. What proportion of shafts are in sync with the specifications? If the\n",
    "process is centered so that the mean is equal to the target value of 0.2500, what\n",
    "proportion of shafts conform to the new specifications? What is your conclusion from\n",
    "this experiment?"
   ]
  },
  {
   "cell_type": "code",
   "execution_count": 51,
   "metadata": {},
   "outputs": [],
   "source": [
    "mu = 0.2508\n",
    "sigma = 0.0005"
   ]
  },
  {
   "cell_type": "code",
   "execution_count": 52,
   "metadata": {},
   "outputs": [],
   "source": [
    "## p(0.2485 < x < 0.2515)\n",
    "z1 = (0.2485 - mu) / sigma\n",
    "z2 = (0.2515 - mu) / sigma"
   ]
  },
  {
   "cell_type": "code",
   "execution_count": 53,
   "metadata": {},
   "outputs": [],
   "source": [
    "p1 = stats.norm.cdf(z1)\n",
    "p2 = stats.norm.cdf(z2)\n",
    "p = p2 - p1"
   ]
  },
  {
   "cell_type": "code",
   "execution_count": 54,
   "metadata": {},
   "outputs": [
    {
     "name": "stdout",
     "output_type": "stream",
     "text": [
      "The value of z1 is: -4.6000000000000485 for x=0.2485\n",
      "The value of p1 is: 2.1124547025023565e-06 almost equal to 0\n",
      "The value of p2 is: 0.9192433407662225\n",
      "The value of p is: 0.91924122831152\n"
     ]
    }
   ],
   "source": [
    "print(f\"The value of z1 is: {z1} for x=0.2485\")\n",
    "print(f\"The value of p1 is: {p1} almost equal to 0\")\n",
    "print(f\"The value of p2 is: {p2}\")\n",
    "print(f\"The value of p is: {p}\")"
   ]
  },
  {
   "cell_type": "markdown",
   "metadata": {},
   "source": [
    "The z1 score for x = 0.2485 is -4.60. Since the zscores greater than 3.49 doesn not exist, and the value for it comes out to be 2.1124547025023565e-06, which is almost 0. Hence the value p2 -p1 is 0.91924122831152 - 0 = 0.91924122831152.\n",
    "Hence the probability of p(0.2485 < x < 0.2515) is 91.92%"
   ]
  },
  {
   "cell_type": "code",
   "execution_count": 55,
   "metadata": {},
   "outputs": [
    {
     "data": {
      "text/plain": [
       "0.054799291699552916"
      ]
     },
     "execution_count": 55,
     "metadata": {},
     "output_type": "execute_result"
    }
   ],
   "source": [
    "## P(x=0.2500)\n",
    "x = 0.2500\n",
    "z = (x - mu) / sigma\n",
    "p = stats.norm.cdf(z)\n",
    "p"
   ]
  },
  {
   "cell_type": "code",
   "execution_count": 56,
   "metadata": {},
   "outputs": [
    {
     "name": "stdout",
     "output_type": "stream",
     "text": [
      "5.48% of the total shafts of the piston have the diameter less than 0.2500 inch\n"
     ]
    }
   ],
   "source": [
    "print(\"{:.2f}% of the total shafts of the piston have the diameter less than 0.2500 inch\".format(p*100))"
   ]
  },
  {
   "cell_type": "code",
   "execution_count": null,
   "metadata": {},
   "outputs": [],
   "source": []
  }
 ],
 "metadata": {
  "kernelspec": {
   "display_name": "Python 3",
   "language": "python",
   "name": "python3"
  },
  "language_info": {
   "codemirror_mode": {
    "name": "ipython",
    "version": 3
   },
   "file_extension": ".py",
   "mimetype": "text/x-python",
   "name": "python",
   "nbconvert_exporter": "python",
   "pygments_lexer": "ipython3",
   "version": "3.7.6"
  }
 },
 "nbformat": 4,
 "nbformat_minor": 4
}
