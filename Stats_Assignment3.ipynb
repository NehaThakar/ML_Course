{
 "cells": [
  {
   "cell_type": "markdown",
   "metadata": {},
   "source": [
    "# Assignment 3"
   ]
  },
  {
   "cell_type": "code",
   "execution_count": 1,
   "metadata": {},
   "outputs": [],
   "source": [
    "import numpy as np\n",
    "from scipy import stats\n",
    "from math import sqrt"
   ]
  },
  {
   "cell_type": "markdown",
   "metadata": {},
   "source": [
    "# Question 1\n",
    "Blood glucose levels for obese patients have a mean of 100 with a standard deviation of 15. A researcher thinks that a diet high in raw cornstarch will have a positive effect on blood glucose levels. A sample of 36 patients who have tried the raw cornstarch diet have a mean glucose level of 108. Test the hypothesis that the raw cornstarch had an effect or not."
   ]
  },
  {
   "cell_type": "code",
   "execution_count": 2,
   "metadata": {},
   "outputs": [],
   "source": [
    "## H0: mu = 100\n",
    "## H1:  mu != 100\n",
    "## Two tailed test"
   ]
  },
  {
   "cell_type": "code",
   "execution_count": 3,
   "metadata": {},
   "outputs": [],
   "source": [
    "mu = 100\n",
    "sigma = 15\n",
    "n = 36\n",
    "xbar = 108\n",
    "alpha = 0.05 / 2"
   ]
  },
  {
   "cell_type": "code",
   "execution_count": 4,
   "metadata": {},
   "outputs": [
    {
     "data": {
      "text/plain": [
       "3.2"
      ]
     },
     "execution_count": 4,
     "metadata": {},
     "output_type": "execute_result"
    }
   ],
   "source": [
    "z = (xbar - mu) / (sigma / sqrt(n))\n",
    "z"
   ]
  },
  {
   "cell_type": "code",
   "execution_count": 5,
   "metadata": {},
   "outputs": [
    {
     "data": {
      "text/plain": [
       "-1.9599639845400545"
      ]
     },
     "execution_count": 5,
     "metadata": {},
     "output_type": "execute_result"
    }
   ],
   "source": [
    "z_critical = stats.norm.ppf(alpha)\n",
    "z_critical"
   ]
  },
  {
   "cell_type": "code",
   "execution_count": 6,
   "metadata": {},
   "outputs": [
    {
     "name": "stdout",
     "output_type": "stream",
     "text": [
      "z lies in the rejection region.\n",
      "The null hypothesis is rejected.\n",
      "The raw cornstarch has an effect on blood glucose levels.\n"
     ]
    }
   ],
   "source": [
    "if z_critical < z < -z_critical:\n",
    "    print(\"z lies in the non-rejection region.\")\n",
    "    print(\"The null hypothesis is retained.\")\n",
    "    print(\"The raw cornstarch had no effect on blood glucose levels.\")\n",
    "else:\n",
    "    print(\"z lies in the rejection region.\")\n",
    "    print(\"The null hypothesis is rejected.\")\n",
    "    print(\"The raw cornstarch has an effect on blood glucose levels.\")"
   ]
  },
  {
   "cell_type": "markdown",
   "metadata": {},
   "source": [
    "# Question 2\n",
    "In one state, 52% of the voters are Republicans, and 48% are Democrats. In a second\n",
    "state, 47% of the voters are Republicans, and 53% are Democrats. Suppose a simple\n",
    "random sample of 100 voters are surveyed from each state.\n",
    "What is the probability that the survey will show a greater percentage of Republican\n",
    "voters in the second state than in the first state?"
   ]
  },
  {
   "cell_type": "markdown",
   "metadata": {},
   "source": [
    "### Difference between proportions\n",
    "Fours steps are involved\n",
    "1. Check if the samples are big enough so as to use normal distribution. If the following conditons are met: \n",
    "    n1P1 >= 10, n1(1-P1) >=10,n2P2 >= 10, and n2(1-P2) >=10 \n",
    "2. Mean difference between sample proportions E(P1 - P2)\n",
    "3. Find the sd of the difference,\n",
    "    sigma_d = sqrt{ [ P1(1 - P1) / n1 ] + [ P2(1 - P2) / n2 ] }\n",
    "4. Find the probability, z(P1-P2) = (x - mu(P1-P2))/ sigma_d\n",
    "   "
   ]
  },
  {
   "cell_type": "code",
   "execution_count": 7,
   "metadata": {},
   "outputs": [],
   "source": [
    "## 52% = 0.52 and 47% =0.47, the probabilities of republicans for the two states\n",
    "n1 = 100\n",
    "P1 = 0.52\n",
    "n2 = 100\n",
    "P2 = 0.47\n",
    "alpha = 0.05"
   ]
  },
  {
   "cell_type": "code",
   "execution_count": 8,
   "metadata": {},
   "outputs": [
    {
     "name": "stdout",
     "output_type": "stream",
     "text": [
      "True\n",
      "True\n",
      "True\n",
      "True\n"
     ]
    }
   ],
   "source": [
    "## Condition check\n",
    "print(n1 * P1 >= 10)\n",
    "print((n1 * (1-P1)) >= 10)\n",
    "print(n2 * P2 >= 10)\n",
    "print((n2 * (1-P2)) >= 10)"
   ]
  },
  {
   "cell_type": "code",
   "execution_count": 9,
   "metadata": {},
   "outputs": [
    {
     "name": "stdout",
     "output_type": "stream",
     "text": [
      "With mu: 0.050000000000000044, standard deviation: 0.07061869440877536, the z-score is: -0.7080278164104213\n"
     ]
    }
   ],
   "source": [
    "mu_P1_minus_P2 = P1 - P2\n",
    "sigma_d = sqrt( (( P1 * (1 - P1)) / n1 ) + ( (P2 * (1 - P2)) / n2 ))\n",
    "z_score = (0 - mu_P1_minus_P2) / sigma_d\n",
    "print(f\"With mu: {mu_P1_minus_P2}, standard deviation: {sigma_d}, the z-score is: {z_score}\")"
   ]
  },
  {
   "cell_type": "code",
   "execution_count": 10,
   "metadata": {},
   "outputs": [
    {
     "name": "stdout",
     "output_type": "stream",
     "text": [
      "The probability is 23.946399%\n"
     ]
    }
   ],
   "source": [
    "prob = stats.norm.cdf(z_score)\n",
    "print(\"The probability is {:2f}%\".format(prob * 100))"
   ]
  },
  {
   "cell_type": "markdown",
   "metadata": {},
   "source": [
    "# Question 3\n",
    "You take the SAT and score 1100. The mean score for the SAT is 1026 and the standard\n",
    "deviation is 209. How well did you score on the test compared to the average test taker?"
   ]
  },
  {
   "cell_type": "code",
   "execution_count": 11,
   "metadata": {},
   "outputs": [],
   "source": [
    "mu = 1026\n",
    "sigma = 209\n",
    "xbar = 1100"
   ]
  },
  {
   "cell_type": "code",
   "execution_count": 12,
   "metadata": {},
   "outputs": [
    {
     "name": "stdout",
     "output_type": "stream",
     "text": [
      "The socre is 63.84% well compared to the average test taker.\n"
     ]
    }
   ],
   "source": [
    "z = (xbar - mu) / sigma\n",
    "prob = stats.norm.cdf(z)\n",
    "print(\"The socre is {:.2f}% well compared to the average test taker.\".format(prob * 100))"
   ]
  }
 ],
 "metadata": {
  "kernelspec": {
   "display_name": "Python 3",
   "language": "python",
   "name": "python3"
  },
  "language_info": {
   "codemirror_mode": {
    "name": "ipython",
    "version": 3
   },
   "file_extension": ".py",
   "mimetype": "text/x-python",
   "name": "python",
   "nbconvert_exporter": "python",
   "pygments_lexer": "ipython3",
   "version": "3.7.6"
  }
 },
 "nbformat": 4,
 "nbformat_minor": 4
}
